{
 "cells": [
  {
   "cell_type": "code",
   "execution_count": null,
   "id": "439b47bc",
   "metadata": {},
   "outputs": [],
   "source": [
    "import pandas as pd \n",
    "import matplotlib.pyplot\n",
    "\n",
    "file_path = '../data/train_FD001.txt'\n",
    "cols = ['unit_number','time_in_cycles','op_setting_1', 'op_setting_2', 'op_setting_3'] + \\ [f'sensor_{i}' for i in range(1, 22)]\n",
    "\n",
    "#load the data\n",
    "df = pd.read_csv(file_path,sep=' ', header=None)\n",
    "df.dropna(axis=1, inplace=True)\n",
    "df.columns = cols\n",
    "\n",
    "# Preview the data\n",
    "print(\"Shape:\", df.shape)\n",
    "display(df.head())\n",
    "\n",
    "# Plot an example engine\n",
    "engine_id = 1\n",
    "engine_df = df[df['unit_number'] == engine_id]\n",
    "engine_df.plot(x='time_in_cycles', y=[f'sensor_{i}' for i in range(1, 6)], figsize=(12, 6))\n",
    "plt.title(f'Sensor data for Engine {engine_id}')\n",
    "plt.xlabel(\"Cycle\")\n",
    "plt.ylabel(\"Sensor readings\")\n",
    "plt.show()"
   ]
  }
 ],
 "metadata": {
  "kernelspec": {
   "display_name": ".venv",
   "language": "python",
   "name": "python3"
  },
  "language_info": {
   "name": "python",
   "version": "3.13.2"
  }
 },
 "nbformat": 4,
 "nbformat_minor": 5
}
